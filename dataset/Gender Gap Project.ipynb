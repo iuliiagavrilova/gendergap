{
 "cells": [
  {
   "cell_type": "code",
   "execution_count": 3,
   "id": "c37b23a8",
   "metadata": {},
   "outputs": [],
   "source": [
    "import pandas as pd\n",
    "\n",
    "#Read the file\n",
    "paygap = pd.read_csv(\"./sdg_05_20.tsv/sdg_05_20.tsv\", sep=\"[,\\t]\", engine=\"python\")\n",
    "\n",
    "#Drop the unnecessary rows\n",
    "cols = paygap.columns.drop(['unit','nace_r2'])\n",
    "paygap = paygap[cols]\n",
    "\n",
    "#Un-pivot the dataset\n",
    "paygap = paygap.melt(id_vars = \"geo\\\\time\", var_name='year', value_name='Gender Gap Percentage')\n",
    "cols = paygap.columns.drop(['geo\\\\time'])\n",
    "\n",
    "#Make percentages into number \n",
    "paygap['Gender Gap Percentage'] = paygap['Gender Gap Percentage'].apply(lambda x: pd.to_numeric(x, errors = 'coerce')) \n",
    "\n",
    "#Take out entries with NaN\n",
    "paygap = paygap[paygap['Gender Gap Percentage'].notnull()]\n",
    "\n",
    "\n",
    "\n",
    "\n",
    "\n"
   ]
  },
  {
   "cell_type": "code",
   "execution_count": 4,
   "id": "897c6138",
   "metadata": {},
   "outputs": [],
   "source": [
    "#Read the file \n",
    "\n",
    "education = pd.read_csv(\"./educ_uoe_enrt03.tsv/educ_uoe_enrt03.tsv\", sep=\"[,\\t]\", engine=\"python\")\n",
    "\n",
    "#Drop unnecessary rows\n",
    "\n",
    "education.drop([\"iscedf13\", \"isced11\", \"unit\"], inplace = True, axis = 1)\n",
    "cols = education.columns.drop(['sex', 'geo\\\\time'])\n",
    "\n",
    "#Make rows into numbers\n",
    "education[cols] = education[cols].apply(lambda x: pd.to_numeric(x, errors = 'coerce')) \n",
    "\n",
    "#Take out \"total\" from sex row\n",
    "education = education[education.sex != \"T\"]\n",
    "\n",
    "#Create percentages of women/males in education\n",
    "bycountryandsex = education.groupby(['geo\\\\time','sex']).sum()\n",
    "bycountry = education.groupby(['geo\\\\time']).sum()\n",
    "percentages = bycountryandsex.div(bycountry, level='geo\\\\time') * 100\n",
    "\n",
    "#Take out male percentages, taking out the sex column\n",
    "percentages.reset_index(inplace=True)\n",
    "percentages = percentages[percentages.sex != \"M\"]\n",
    "percentages = percentages.drop('sex', axis=1)\n",
    "\n",
    "#Un-pivot the dataset \n",
    "percentages = percentages.melt(id_vars=\"geo\\\\time\", var_name='year', value_name=\"Percentage of women in academy\")\n",
    "\n",
    "#Take out entries with NaN\n",
    "percentages = percentages[percentages['Percentage of women in academy'].notnull()]\n",
    "\n",
    "\n"
   ]
  },
  {
   "cell_type": "code",
   "execution_count": 7,
   "id": "fef1adb9",
   "metadata": {},
   "outputs": [],
   "source": [
    "#Inner join of datasets\n",
    "\n",
    "dataset = pd.merge(percentages, paygap, on = [\"geo\\\\time\", 'year'])\n",
    "\n",
    "\n",
    "dataset.to_csv(path_or_buf=\"./project.csv\")"
   ]
  },
  {
   "cell_type": "code",
   "execution_count": 51,
   "id": "1e82d4b0",
   "metadata": {},
   "outputs": [
    {
     "data": {
      "text/plain": [
       "[<matplotlib.lines.Line2D at 0x218bff3af70>]"
      ]
     },
     "execution_count": 51,
     "metadata": {},
     "output_type": "execute_result"
    },
    {
     "data": {
      "image/png": "[encoded data removed]",
      "text/plain": [
       "<Figure size 432x288 with 1 Axes>"
      ]
     },
     "metadata": {
      "needs_background": "light"
     },
     "output_type": "display_data"
    }
   ],
   "source": [
    "import matplotlib.pyplot as plt \n",
    "\n",
    "x = dataset.year \n",
    "y = dataset['Gender Gap Percentage']\n",
    "\n",
    "plt.plot(x, y)\n",
    "\n",
    "\n",
    "x = dataset.year \n",
    "y = dataset['Percentage of women in academy']\n",
    "\n",
    "plt.plot(x, y)\n",
    "\n",
    "\n"
   ]
  },
  {
   "cell_type": "code",
   "execution_count": null,
   "id": "88a67a29",
   "metadata": {},
   "outputs": [],
   "source": []
  }
 ],
 "metadata": {
  "kernelspec": {
   "display_name": "Python 3",
   "language": "python",
   "name": "python3"
  },
  "language_info": {
   "codemirror_mode": {
    "name": "ipython",
    "version": 3
   },
   "file_extension": ".py",
   "mimetype": "text/x-python",
   "name": "python",
   "nbconvert_exporter": "python",
   "pygments_lexer": "ipython3",
   "version": "3.8.8"
  }
 },
 "nbformat": 4,
 "nbformat_minor": 5
}
